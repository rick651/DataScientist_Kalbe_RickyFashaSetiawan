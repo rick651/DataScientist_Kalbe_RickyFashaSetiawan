{
 "cells": [
  {
   "cell_type": "markdown",
   "id": "b4a96aed-9fe9-41a7-aa13-dca621228096",
   "metadata": {},
   "source": [
    "## Data Preparation\n",
    "\n",
    "Preparation of Data."
   ]
  },
  {
   "cell_type": "code",
   "execution_count": 1,
   "id": "9c480c97-65ca-4fd9-b25f-371ec79151fb",
   "metadata": {},
   "outputs": [],
   "source": [
    "import pandas as pd\n",
    "import numpy as np"
   ]
  },
  {
   "cell_type": "markdown",
   "id": "7fb77172-e0bb-4f78-9758-4badcbeb5235",
   "metadata": {},
   "source": [
    "## **1. Data Input**"
   ]
  },
  {
   "cell_type": "code",
   "execution_count": 21,
   "id": "daa685ba-d668-4385-9f00-7c31f62e34a1",
   "metadata": {},
   "outputs": [],
   "source": [
    "df_customer = pd.read_csv('C:/Users/hp/Downloads/PortoBuilder/Kalbe Internship/Final Project/Case Study Data Scientist/Case Study - Customer.csv', delimiter = ';') \n",
    "df_store = pd.read_csv('C:/Users/hp/Downloads/PortoBuilder/Kalbe Internship/Final Project/Case Study Data Scientist/Case Study - Store.csv', delimiter = ';')\n",
    "df_product = pd.read_csv('C:/Users/hp/Downloads/PortoBuilder/Kalbe Internship/Final Project/Case Study Data Scientist/Case Study - Product.csv', delimiter = ';') \n",
    "df_transaction = pd.read_csv('C:/Users/hp/Downloads/PortoBuilder/Kalbe Internship/Final Project/Case Study Data Scientist/Case Study - Transaction.csv', delimiter = ';')"
   ]
  },
  {
   "cell_type": "code",
   "execution_count": 23,
   "id": "d54c19e8-8abc-40a0-a3e5-b23e7ac3f781",
   "metadata": {},
   "outputs": [
    {
     "data": {
      "text/plain": [
       "((447, 5), (14, 6), (10, 3), (5020, 8))"
      ]
     },
     "execution_count": 23,
     "metadata": {},
     "output_type": "execute_result"
    }
   ],
   "source": [
    "df_customer.shape, df_store.shape, df_product.shape, df_transaction.shape"
   ]
  },
  {
   "cell_type": "code",
   "execution_count": 32,
   "id": "4814d332-61e1-4f94-a01d-09b5a8f79e7e",
   "metadata": {},
   "outputs": [
    {
     "data": {
      "text/html": [
       "<div>\n",
       "<style scoped>\n",
       "    .dataframe tbody tr th:only-of-type {\n",
       "        vertical-align: middle;\n",
       "    }\n",
       "\n",
       "    .dataframe tbody tr th {\n",
       "        vertical-align: top;\n",
       "    }\n",
       "\n",
       "    .dataframe thead th {\n",
       "        text-align: right;\n",
       "    }\n",
       "</style>\n",
       "<table border=\"1\" class=\"dataframe\">\n",
       "  <thead>\n",
       "    <tr style=\"text-align: right;\">\n",
       "      <th></th>\n",
       "      <th>CustomerID</th>\n",
       "      <th>Age</th>\n",
       "      <th>Gender</th>\n",
       "      <th>Marital Status</th>\n",
       "      <th>Income</th>\n",
       "    </tr>\n",
       "  </thead>\n",
       "  <tbody>\n",
       "    <tr>\n",
       "      <th>0</th>\n",
       "      <td>1</td>\n",
       "      <td>55</td>\n",
       "      <td>1</td>\n",
       "      <td>Married</td>\n",
       "      <td>5,12</td>\n",
       "    </tr>\n",
       "    <tr>\n",
       "      <th>1</th>\n",
       "      <td>2</td>\n",
       "      <td>60</td>\n",
       "      <td>1</td>\n",
       "      <td>Married</td>\n",
       "      <td>6,23</td>\n",
       "    </tr>\n",
       "    <tr>\n",
       "      <th>2</th>\n",
       "      <td>3</td>\n",
       "      <td>32</td>\n",
       "      <td>1</td>\n",
       "      <td>Married</td>\n",
       "      <td>9,17</td>\n",
       "    </tr>\n",
       "    <tr>\n",
       "      <th>3</th>\n",
       "      <td>4</td>\n",
       "      <td>31</td>\n",
       "      <td>1</td>\n",
       "      <td>Married</td>\n",
       "      <td>4,87</td>\n",
       "    </tr>\n",
       "    <tr>\n",
       "      <th>4</th>\n",
       "      <td>5</td>\n",
       "      <td>58</td>\n",
       "      <td>1</td>\n",
       "      <td>Married</td>\n",
       "      <td>3,57</td>\n",
       "    </tr>\n",
       "  </tbody>\n",
       "</table>\n",
       "</div>"
      ],
      "text/plain": [
       "   CustomerID  Age  Gender Marital Status Income\n",
       "0           1   55       1        Married   5,12\n",
       "1           2   60       1        Married   6,23\n",
       "2           3   32       1        Married   9,17\n",
       "3           4   31       1        Married   4,87\n",
       "4           5   58       1        Married   3,57"
      ]
     },
     "execution_count": 32,
     "metadata": {},
     "output_type": "execute_result"
    }
   ],
   "source": [
    "df_customer.head()"
   ]
  },
  {
   "cell_type": "code",
   "execution_count": 33,
   "id": "83fb2926-3d53-490b-9a1f-9a472b91a0da",
   "metadata": {},
   "outputs": [
    {
     "name": "stdout",
     "output_type": "stream",
     "text": [
      "<class 'pandas.core.frame.DataFrame'>\n",
      "RangeIndex: 447 entries, 0 to 446\n",
      "Data columns (total 5 columns):\n",
      " #   Column          Non-Null Count  Dtype \n",
      "---  ------          --------------  ----- \n",
      " 0   CustomerID      447 non-null    int64 \n",
      " 1   Age             447 non-null    int64 \n",
      " 2   Gender          447 non-null    int64 \n",
      " 3   Marital Status  444 non-null    object\n",
      " 4   Income          447 non-null    object\n",
      "dtypes: int64(3), object(2)\n",
      "memory usage: 17.6+ KB\n"
     ]
    }
   ],
   "source": [
    "df_customer.info()"
   ]
  },
  {
   "cell_type": "code",
   "execution_count": 49,
   "id": "889a9a84-8830-4b9c-bdd6-b14d02613eb4",
   "metadata": {},
   "outputs": [
    {
     "data": {
      "text/html": [
       "<div>\n",
       "<style scoped>\n",
       "    .dataframe tbody tr th:only-of-type {\n",
       "        vertical-align: middle;\n",
       "    }\n",
       "\n",
       "    .dataframe tbody tr th {\n",
       "        vertical-align: top;\n",
       "    }\n",
       "\n",
       "    .dataframe thead th {\n",
       "        text-align: right;\n",
       "    }\n",
       "</style>\n",
       "<table border=\"1\" class=\"dataframe\">\n",
       "  <thead>\n",
       "    <tr style=\"text-align: right;\">\n",
       "      <th></th>\n",
       "      <th>StoreID</th>\n",
       "      <th>StoreName</th>\n",
       "      <th>GroupStore</th>\n",
       "      <th>Type</th>\n",
       "      <th>Latitude</th>\n",
       "      <th>Longitude</th>\n",
       "    </tr>\n",
       "  </thead>\n",
       "  <tbody>\n",
       "    <tr>\n",
       "      <th>0</th>\n",
       "      <td>1</td>\n",
       "      <td>Prima Tendean</td>\n",
       "      <td>Prima</td>\n",
       "      <td>Modern Trade</td>\n",
       "      <td>-6,2</td>\n",
       "      <td>106,816666</td>\n",
       "    </tr>\n",
       "    <tr>\n",
       "      <th>1</th>\n",
       "      <td>2</td>\n",
       "      <td>Prima Kelapa Dua</td>\n",
       "      <td>Prima</td>\n",
       "      <td>Modern Trade</td>\n",
       "      <td>-6,914864</td>\n",
       "      <td>107,608238</td>\n",
       "    </tr>\n",
       "    <tr>\n",
       "      <th>2</th>\n",
       "      <td>3</td>\n",
       "      <td>Prima Kota</td>\n",
       "      <td>Prima</td>\n",
       "      <td>Modern Trade</td>\n",
       "      <td>-7,797068</td>\n",
       "      <td>110,370529</td>\n",
       "    </tr>\n",
       "    <tr>\n",
       "      <th>3</th>\n",
       "      <td>4</td>\n",
       "      <td>Gita Ginara</td>\n",
       "      <td>Gita</td>\n",
       "      <td>General Trade</td>\n",
       "      <td>-6,966667</td>\n",
       "      <td>110,416664</td>\n",
       "    </tr>\n",
       "    <tr>\n",
       "      <th>4</th>\n",
       "      <td>5</td>\n",
       "      <td>Bonafid</td>\n",
       "      <td>Gita</td>\n",
       "      <td>General Trade</td>\n",
       "      <td>-7,250445</td>\n",
       "      <td>112,768845</td>\n",
       "    </tr>\n",
       "  </tbody>\n",
       "</table>\n",
       "</div>"
      ],
      "text/plain": [
       "   StoreID         StoreName GroupStore           Type   Latitude   Longitude\n",
       "0        1     Prima Tendean      Prima   Modern Trade       -6,2  106,816666\n",
       "1        2  Prima Kelapa Dua      Prima   Modern Trade  -6,914864  107,608238\n",
       "2        3        Prima Kota      Prima   Modern Trade  -7,797068  110,370529\n",
       "3        4       Gita Ginara       Gita  General Trade  -6,966667  110,416664\n",
       "4        5           Bonafid       Gita  General Trade  -7,250445  112,768845"
      ]
     },
     "execution_count": 49,
     "metadata": {},
     "output_type": "execute_result"
    }
   ],
   "source": [
    "df_store.head()"
   ]
  },
  {
   "cell_type": "code",
   "execution_count": 50,
   "id": "e669226a-3cd9-4a8c-9063-38a574b4f0a4",
   "metadata": {},
   "outputs": [
    {
     "name": "stdout",
     "output_type": "stream",
     "text": [
      "<class 'pandas.core.frame.DataFrame'>\n",
      "RangeIndex: 14 entries, 0 to 13\n",
      "Data columns (total 6 columns):\n",
      " #   Column      Non-Null Count  Dtype \n",
      "---  ------      --------------  ----- \n",
      " 0   StoreID     14 non-null     int64 \n",
      " 1   StoreName   14 non-null     object\n",
      " 2   GroupStore  14 non-null     object\n",
      " 3   Type        14 non-null     object\n",
      " 4   Latitude    14 non-null     object\n",
      " 5   Longitude   14 non-null     object\n",
      "dtypes: int64(1), object(5)\n",
      "memory usage: 804.0+ bytes\n"
     ]
    }
   ],
   "source": [
    "df_store.info()"
   ]
  },
  {
   "cell_type": "code",
   "execution_count": 51,
   "id": "d8f003be-9ef9-4cef-82fe-5f86cb41b000",
   "metadata": {},
   "outputs": [
    {
     "data": {
      "text/html": [
       "<div>\n",
       "<style scoped>\n",
       "    .dataframe tbody tr th:only-of-type {\n",
       "        vertical-align: middle;\n",
       "    }\n",
       "\n",
       "    .dataframe tbody tr th {\n",
       "        vertical-align: top;\n",
       "    }\n",
       "\n",
       "    .dataframe thead th {\n",
       "        text-align: right;\n",
       "    }\n",
       "</style>\n",
       "<table border=\"1\" class=\"dataframe\">\n",
       "  <thead>\n",
       "    <tr style=\"text-align: right;\">\n",
       "      <th></th>\n",
       "      <th>ProductID</th>\n",
       "      <th>Product Name</th>\n",
       "      <th>Price</th>\n",
       "    </tr>\n",
       "  </thead>\n",
       "  <tbody>\n",
       "    <tr>\n",
       "      <th>0</th>\n",
       "      <td>P1</td>\n",
       "      <td>Choco Bar</td>\n",
       "      <td>8800</td>\n",
       "    </tr>\n",
       "    <tr>\n",
       "      <th>1</th>\n",
       "      <td>P2</td>\n",
       "      <td>Ginger Candy</td>\n",
       "      <td>3200</td>\n",
       "    </tr>\n",
       "    <tr>\n",
       "      <th>2</th>\n",
       "      <td>P3</td>\n",
       "      <td>Crackers</td>\n",
       "      <td>7500</td>\n",
       "    </tr>\n",
       "    <tr>\n",
       "      <th>3</th>\n",
       "      <td>P4</td>\n",
       "      <td>Potato Chip</td>\n",
       "      <td>12000</td>\n",
       "    </tr>\n",
       "    <tr>\n",
       "      <th>4</th>\n",
       "      <td>P5</td>\n",
       "      <td>Thai Tea</td>\n",
       "      <td>4200</td>\n",
       "    </tr>\n",
       "  </tbody>\n",
       "</table>\n",
       "</div>"
      ],
      "text/plain": [
       "  ProductID   Product Name  Price\n",
       "0        P1      Choco Bar   8800\n",
       "1        P2  Ginger Candy    3200\n",
       "2        P3       Crackers   7500\n",
       "3        P4    Potato Chip  12000\n",
       "4        P5       Thai Tea   4200"
      ]
     },
     "execution_count": 51,
     "metadata": {},
     "output_type": "execute_result"
    }
   ],
   "source": [
    "df_product.head()"
   ]
  },
  {
   "cell_type": "code",
   "execution_count": 52,
   "id": "87b837f2-c74b-4824-b388-6f7c1ee8ee93",
   "metadata": {},
   "outputs": [
    {
     "name": "stdout",
     "output_type": "stream",
     "text": [
      "<class 'pandas.core.frame.DataFrame'>\n",
      "RangeIndex: 10 entries, 0 to 9\n",
      "Data columns (total 3 columns):\n",
      " #   Column        Non-Null Count  Dtype \n",
      "---  ------        --------------  ----- \n",
      " 0   ProductID     10 non-null     object\n",
      " 1   Product Name  10 non-null     object\n",
      " 2   Price         10 non-null     int64 \n",
      "dtypes: int64(1), object(2)\n",
      "memory usage: 372.0+ bytes\n"
     ]
    }
   ],
   "source": [
    "df_product.info()"
   ]
  },
  {
   "cell_type": "code",
   "execution_count": 53,
   "id": "b0c57dad-8d7c-4b0b-a476-aa27224ad1ec",
   "metadata": {},
   "outputs": [
    {
     "data": {
      "text/html": [
       "<div>\n",
       "<style scoped>\n",
       "    .dataframe tbody tr th:only-of-type {\n",
       "        vertical-align: middle;\n",
       "    }\n",
       "\n",
       "    .dataframe tbody tr th {\n",
       "        vertical-align: top;\n",
       "    }\n",
       "\n",
       "    .dataframe thead th {\n",
       "        text-align: right;\n",
       "    }\n",
       "</style>\n",
       "<table border=\"1\" class=\"dataframe\">\n",
       "  <thead>\n",
       "    <tr style=\"text-align: right;\">\n",
       "      <th></th>\n",
       "      <th>TransactionID</th>\n",
       "      <th>CustomerID</th>\n",
       "      <th>Date</th>\n",
       "      <th>ProductID</th>\n",
       "      <th>Price</th>\n",
       "      <th>Qty</th>\n",
       "      <th>TotalAmount</th>\n",
       "      <th>StoreID</th>\n",
       "    </tr>\n",
       "  </thead>\n",
       "  <tbody>\n",
       "    <tr>\n",
       "      <th>0</th>\n",
       "      <td>TR11369</td>\n",
       "      <td>328</td>\n",
       "      <td>01/01/2022</td>\n",
       "      <td>P3</td>\n",
       "      <td>7500</td>\n",
       "      <td>4</td>\n",
       "      <td>30000</td>\n",
       "      <td>12</td>\n",
       "    </tr>\n",
       "    <tr>\n",
       "      <th>1</th>\n",
       "      <td>TR16356</td>\n",
       "      <td>165</td>\n",
       "      <td>01/01/2022</td>\n",
       "      <td>P9</td>\n",
       "      <td>10000</td>\n",
       "      <td>7</td>\n",
       "      <td>70000</td>\n",
       "      <td>1</td>\n",
       "    </tr>\n",
       "    <tr>\n",
       "      <th>2</th>\n",
       "      <td>TR1984</td>\n",
       "      <td>183</td>\n",
       "      <td>01/01/2022</td>\n",
       "      <td>P1</td>\n",
       "      <td>8800</td>\n",
       "      <td>4</td>\n",
       "      <td>35200</td>\n",
       "      <td>4</td>\n",
       "    </tr>\n",
       "    <tr>\n",
       "      <th>3</th>\n",
       "      <td>TR35256</td>\n",
       "      <td>160</td>\n",
       "      <td>01/01/2022</td>\n",
       "      <td>P1</td>\n",
       "      <td>8800</td>\n",
       "      <td>7</td>\n",
       "      <td>61600</td>\n",
       "      <td>4</td>\n",
       "    </tr>\n",
       "    <tr>\n",
       "      <th>4</th>\n",
       "      <td>TR41231</td>\n",
       "      <td>386</td>\n",
       "      <td>01/01/2022</td>\n",
       "      <td>P9</td>\n",
       "      <td>10000</td>\n",
       "      <td>1</td>\n",
       "      <td>10000</td>\n",
       "      <td>4</td>\n",
       "    </tr>\n",
       "  </tbody>\n",
       "</table>\n",
       "</div>"
      ],
      "text/plain": [
       "  TransactionID  CustomerID        Date ProductID  Price  Qty  TotalAmount  \\\n",
       "0       TR11369         328  01/01/2022        P3   7500    4        30000   \n",
       "1       TR16356         165  01/01/2022        P9  10000    7        70000   \n",
       "2        TR1984         183  01/01/2022        P1   8800    4        35200   \n",
       "3       TR35256         160  01/01/2022        P1   8800    7        61600   \n",
       "4       TR41231         386  01/01/2022        P9  10000    1        10000   \n",
       "\n",
       "   StoreID  \n",
       "0       12  \n",
       "1        1  \n",
       "2        4  \n",
       "3        4  \n",
       "4        4  "
      ]
     },
     "execution_count": 53,
     "metadata": {},
     "output_type": "execute_result"
    }
   ],
   "source": [
    "df_transaction.head()"
   ]
  },
  {
   "cell_type": "code",
   "execution_count": 54,
   "id": "54a8ca84-33a5-43e9-b548-c31042f7dd64",
   "metadata": {},
   "outputs": [
    {
     "name": "stdout",
     "output_type": "stream",
     "text": [
      "<class 'pandas.core.frame.DataFrame'>\n",
      "RangeIndex: 5020 entries, 0 to 5019\n",
      "Data columns (total 8 columns):\n",
      " #   Column         Non-Null Count  Dtype \n",
      "---  ------         --------------  ----- \n",
      " 0   TransactionID  5020 non-null   object\n",
      " 1   CustomerID     5020 non-null   int64 \n",
      " 2   Date           5020 non-null   object\n",
      " 3   ProductID      5020 non-null   object\n",
      " 4   Price          5020 non-null   int64 \n",
      " 5   Qty            5020 non-null   int64 \n",
      " 6   TotalAmount    5020 non-null   int64 \n",
      " 7   StoreID        5020 non-null   int64 \n",
      "dtypes: int64(5), object(3)\n",
      "memory usage: 313.9+ KB\n"
     ]
    }
   ],
   "source": [
    "df_transaction.info()"
   ]
  },
  {
   "cell_type": "markdown",
   "id": "1326b3f3-0d9c-4ed2-9adb-0742ddc0340d",
   "metadata": {},
   "source": [
    "## **2. Data Cleansing**"
   ]
  },
  {
   "cell_type": "markdown",
   "id": "2c4b9088-1d7d-4293-b405-ac616886f80f",
   "metadata": {},
   "source": [
    "**1. Fill mode for data Null in Customer Dataset**"
   ]
  },
  {
   "cell_type": "code",
   "execution_count": 56,
   "id": "73522ccd-c1f5-4c4c-b113-5dfe89f451bd",
   "metadata": {},
   "outputs": [
    {
     "name": "stdout",
     "output_type": "stream",
     "text": [
      "Rows with null 'Marital Status' column:\n",
      "     CustomerID  Age  Gender Marital Status Income\n",
      "9            10   34       1            NaN      4\n",
      "415         416   27       1            NaN   3,43\n",
      "442         443   33       1            NaN   9,28\n"
     ]
    }
   ],
   "source": [
    "# Print rows where 'Marital Status' column is null\n",
    "null_marital_status = df_customer[df_customer['Marital Status'].isnull()]\n",
    "print(\"Rows with null 'Marital Status' column:\")\n",
    "print(null_marital_status)"
   ]
  },
  {
   "cell_type": "code",
   "execution_count": 58,
   "id": "6c2d9265-c650-4536-a5a2-a6863c714cd5",
   "metadata": {},
   "outputs": [],
   "source": [
    "# Fill null values in 'Marital Status' column with the mode\n",
    "mode_marital_status = df_customer['Marital Status'].mode()[0]\n",
    "df_customer['Marital Status'].fillna(mode_marital_status, inplace=True)"
   ]
  },
  {
   "cell_type": "code",
   "execution_count": 59,
   "id": "2d874ded-eaee-434a-a7d0-c7147801dd56",
   "metadata": {},
   "outputs": [
    {
     "name": "stdout",
     "output_type": "stream",
     "text": [
      "<class 'pandas.core.frame.DataFrame'>\n",
      "RangeIndex: 447 entries, 0 to 446\n",
      "Data columns (total 5 columns):\n",
      " #   Column          Non-Null Count  Dtype \n",
      "---  ------          --------------  ----- \n",
      " 0   CustomerID      447 non-null    int64 \n",
      " 1   Age             447 non-null    int64 \n",
      " 2   Gender          447 non-null    int64 \n",
      " 3   Marital Status  447 non-null    object\n",
      " 4   Income          447 non-null    object\n",
      "dtypes: int64(3), object(2)\n",
      "memory usage: 17.6+ KB\n"
     ]
    }
   ],
   "source": [
    "df_customer.info()"
   ]
  },
  {
   "cell_type": "markdown",
   "id": "c91fba0e-682d-43df-bc8d-0ce92cf937bd",
   "metadata": {},
   "source": [
    "**2. Change longitude and latitude data type in store dataset**"
   ]
  },
  {
   "cell_type": "code",
   "execution_count": 61,
   "id": "a40abe21-7d2f-4a35-8f98-d05fa4fbdcc0",
   "metadata": {},
   "outputs": [
    {
     "name": "stdout",
     "output_type": "stream",
     "text": [
      "<class 'pandas.core.frame.DataFrame'>\n",
      "RangeIndex: 14 entries, 0 to 13\n",
      "Data columns (total 6 columns):\n",
      " #   Column      Non-Null Count  Dtype  \n",
      "---  ------      --------------  -----  \n",
      " 0   StoreID     14 non-null     int64  \n",
      " 1   StoreName   14 non-null     object \n",
      " 2   GroupStore  14 non-null     object \n",
      " 3   Type        14 non-null     object \n",
      " 4   Latitude    14 non-null     float64\n",
      " 5   Longitude   14 non-null     float64\n",
      "dtypes: float64(2), int64(1), object(3)\n",
      "memory usage: 804.0+ bytes\n",
      "None\n"
     ]
    }
   ],
   "source": [
    "# Remove non-numeric characters and whitespace from 'Latitude' and 'Longitude' columns\n",
    "df_store['Latitude'] = df_store['Latitude'].str.replace('[^\\d.]+', '', regex=True).astype(float)\n",
    "df_store['Longitude'] = df_store['Longitude'].str.replace('[^\\d.]+', '', regex=True).astype(float)\n",
    "\n",
    "# Verify the changes\n",
    "print(df_store.info())\n"
   ]
  },
  {
   "cell_type": "markdown",
   "id": "4d2553ab-6e5c-4a92-a85f-e3dae92f511e",
   "metadata": {},
   "source": [
    "**3. Fix data duplicate issue in transaction dataset**"
   ]
  },
  {
   "cell_type": "code",
   "execution_count": 62,
   "id": "b5007dc2-744c-43ce-8144-9ed994ba1764",
   "metadata": {},
   "outputs": [
    {
     "name": "stdout",
     "output_type": "stream",
     "text": [
      "The 'TransactionID' column has duplicates.\n"
     ]
    }
   ],
   "source": [
    "# Check if 'TransactionID' column has duplicates\n",
    "has_duplicate_transaction_ids = df_transaction['TransactionID'].duplicated().any()\n",
    "\n",
    "if has_duplicate_transaction_ids:\n",
    "    print(\"The 'TransactionID' column has duplicates.\")\n",
    "else:\n",
    "    print(\"The 'TransactionID' column is unique.\")"
   ]
  },
  {
   "cell_type": "code",
   "execution_count": 63,
   "id": "64e8c640-118a-4cf2-a0e8-31d25f887018",
   "metadata": {},
   "outputs": [
    {
     "name": "stdout",
     "output_type": "stream",
     "text": [
      "Rows with duplicate 'TransactionID':\n",
      "     TransactionID  CustomerID        Date ProductID  Price  Qty  TotalAmount  \\\n",
      "6          TR54287          51  01/01/2022        P8  16000    2        32000   \n",
      "17         TR26678         321  02/01/2022        P6  18000    3        54000   \n",
      "21         TR34291         333  02/01/2022        P7   9400    2        18800   \n",
      "52         TR41140          78  04/01/2022        P9  10000    2        20000   \n",
      "74         TR84132          22  05/01/2022        P9  10000    7        70000   \n",
      "...            ...         ...         ...       ...    ...  ...          ...   \n",
      "4876       TR91651         197  21/12/2022        P5   4200    2         8400   \n",
      "4910       TR57273         376  24/12/2022        P8  16000    1        16000   \n",
      "4916       TR75968         209  24/12/2022        P9  10000    7        70000   \n",
      "4921       TR18138         375  25/12/2022        P3   7500    6        45000   \n",
      "5000       TR26924         161  30/12/2022        P4  12000    3        36000   \n",
      "\n",
      "      StoreID  \n",
      "6           2  \n",
      "17         12  \n",
      "21          7  \n",
      "52         14  \n",
      "74         14  \n",
      "...       ...  \n",
      "4876        7  \n",
      "4910       11  \n",
      "4916       13  \n",
      "4921        4  \n",
      "5000        9  \n",
      "\n",
      "[223 rows x 8 columns]\n"
     ]
    }
   ],
   "source": [
    "# Check for duplicate rows based on 'TransactionID' column\n",
    "duplicate_transaction_ids = df_transaction[df_transaction.duplicated(subset='TransactionID', keep=False)]\n",
    "\n",
    "# Print the rows with duplicate 'TransactionID'\n",
    "print(\"Rows with duplicate 'TransactionID':\")\n",
    "print(duplicate_transaction_ids)\n"
   ]
  },
  {
   "cell_type": "code",
   "execution_count": 66,
   "id": "fe65b3c2-d10b-4ffd-a00d-ed327e898c9c",
   "metadata": {},
   "outputs": [
    {
     "data": {
      "text/html": [
       "<div>\n",
       "<style scoped>\n",
       "    .dataframe tbody tr th:only-of-type {\n",
       "        vertical-align: middle;\n",
       "    }\n",
       "\n",
       "    .dataframe tbody tr th {\n",
       "        vertical-align: top;\n",
       "    }\n",
       "\n",
       "    .dataframe thead th {\n",
       "        text-align: right;\n",
       "    }\n",
       "</style>\n",
       "<table border=\"1\" class=\"dataframe\">\n",
       "  <thead>\n",
       "    <tr style=\"text-align: right;\">\n",
       "      <th></th>\n",
       "      <th>TransactionID</th>\n",
       "      <th>CustomerID</th>\n",
       "      <th>Date</th>\n",
       "      <th>ProductID</th>\n",
       "      <th>Price</th>\n",
       "      <th>Qty</th>\n",
       "      <th>TotalAmount</th>\n",
       "      <th>StoreID</th>\n",
       "    </tr>\n",
       "  </thead>\n",
       "  <tbody>\n",
       "    <tr>\n",
       "      <th>649</th>\n",
       "      <td>TR91651</td>\n",
       "      <td>234</td>\n",
       "      <td>16/02/2022</td>\n",
       "      <td>P3</td>\n",
       "      <td>7500</td>\n",
       "      <td>2</td>\n",
       "      <td>15000</td>\n",
       "      <td>8</td>\n",
       "    </tr>\n",
       "    <tr>\n",
       "      <th>4876</th>\n",
       "      <td>TR91651</td>\n",
       "      <td>197</td>\n",
       "      <td>21/12/2022</td>\n",
       "      <td>P5</td>\n",
       "      <td>4200</td>\n",
       "      <td>2</td>\n",
       "      <td>8400</td>\n",
       "      <td>7</td>\n",
       "    </tr>\n",
       "  </tbody>\n",
       "</table>\n",
       "</div>"
      ],
      "text/plain": [
       "     TransactionID  CustomerID        Date ProductID  Price  Qty  TotalAmount  \\\n",
       "649        TR91651         234  16/02/2022        P3   7500    2        15000   \n",
       "4876       TR91651         197  21/12/2022        P5   4200    2         8400   \n",
       "\n",
       "      StoreID  \n",
       "649         8  \n",
       "4876        7  "
      ]
     },
     "execution_count": 66,
     "metadata": {},
     "output_type": "execute_result"
    }
   ],
   "source": [
    "#Proof\n",
    "df_transaction[df_transaction.TransactionID == 'TR91651']"
   ]
  },
  {
   "cell_type": "code",
   "execution_count": 71,
   "id": "b34a1ec8-f0f0-4c12-a7ac-fee1a9bead0c",
   "metadata": {},
   "outputs": [
    {
     "name": "stdout",
     "output_type": "stream",
     "text": [
      "     TransactionID  CustomerID       Date ProductID  Price  Qty  TotalAmount  \\\n",
      "0          TR10008         235 2022-05-21        P8  16000    2        32000   \n",
      "1          TR10012         185 2022-12-27        P9  10000    2        20000   \n",
      "2          TR10026         164 2022-11-03        P6  18000    1        18000   \n",
      "3          TR10049         427 2022-09-18        P4  12000    1        12000   \n",
      "4          TR10055          21 2022-05-16       P10  15000    4        60000   \n",
      "...            ...         ...        ...       ...    ...  ...          ...   \n",
      "4903       TR99856         114 2022-03-29        P5   4200    5        21000   \n",
      "4904       TR99870         431 2022-03-07        P5   4200    4        16800   \n",
      "4905       TR99883         172 2022-11-11       P10  15000    2        30000   \n",
      "4906       TR99917         442 2022-07-24        P3   7500    1         7500   \n",
      "4907       TR99925         280 2022-10-25       P10  15000    5        75000   \n",
      "\n",
      "      StoreID  \n",
      "0           4  \n",
      "1           7  \n",
      "2          11  \n",
      "3           9  \n",
      "4           5  \n",
      "...       ...  \n",
      "4903       12  \n",
      "4904        8  \n",
      "4905       11  \n",
      "4906        5  \n",
      "4907       12  \n",
      "\n",
      "[4908 rows x 8 columns]\n"
     ]
    }
   ],
   "source": [
    "# Convert the \"Date\" column to datetime data type with the correct format (assuming \"dd/mm/yyyy\")\n",
    "df_transaction['Date'] = pd.to_datetime(df_transaction['Date'], format='%d/%m/%Y')\n",
    "\n",
    "# Sort the DataFrame by 'TransactionID' and 'Date' in descending order\n",
    "df_transaction.sort_values(by=['TransactionID', 'Date'], ascending=[True, False], inplace=True)\n",
    "\n",
    "# Remove duplicates, keeping only the rows with the latest 'Date' for each 'TransactionID'\n",
    "df_transaction.drop_duplicates(subset='TransactionID', keep='first', inplace=True)\n",
    "\n",
    "# Reset the index if necessary\n",
    "df_transaction.reset_index(drop=True, inplace=True)\n",
    "\n",
    "# Print the updated DataFrame\n",
    "print(df_transaction)\n"
   ]
  },
  {
   "cell_type": "markdown",
   "id": "a374e0bc-0a04-4cde-b49f-06bbca298c38",
   "metadata": {},
   "source": [
    "## **3. Merge Data**"
   ]
  },
  {
   "cell_type": "code",
   "execution_count": 72,
   "id": "aef51349-abb7-460c-afaa-ece38b707851",
   "metadata": {},
   "outputs": [],
   "source": [
    "df_merged = pd.merge (df_transaction, df_product, on= 'ProductID', how='left')\n",
    "df_merged = pd.merge (df_merged, df_store, on= 'StoreID', how='inner')\n",
    "df_merged = pd.merge (df_merged, df_customer, on= 'CustomerID', how='inner')"
   ]
  },
  {
   "cell_type": "code",
   "execution_count": 73,
   "id": "1129ba7c-a09e-4aaa-bb99-520bd69f932c",
   "metadata": {},
   "outputs": [
    {
     "data": {
      "text/html": [
       "<div>\n",
       "<style scoped>\n",
       "    .dataframe tbody tr th:only-of-type {\n",
       "        vertical-align: middle;\n",
       "    }\n",
       "\n",
       "    .dataframe tbody tr th {\n",
       "        vertical-align: top;\n",
       "    }\n",
       "\n",
       "    .dataframe thead th {\n",
       "        text-align: right;\n",
       "    }\n",
       "</style>\n",
       "<table border=\"1\" class=\"dataframe\">\n",
       "  <thead>\n",
       "    <tr style=\"text-align: right;\">\n",
       "      <th></th>\n",
       "      <th>TransactionID</th>\n",
       "      <th>CustomerID</th>\n",
       "      <th>Date</th>\n",
       "      <th>ProductID</th>\n",
       "      <th>Price_x</th>\n",
       "      <th>Qty</th>\n",
       "      <th>TotalAmount</th>\n",
       "      <th>StoreID</th>\n",
       "      <th>Product Name</th>\n",
       "      <th>Price_y</th>\n",
       "      <th>StoreName</th>\n",
       "      <th>GroupStore</th>\n",
       "      <th>Type</th>\n",
       "      <th>Latitude</th>\n",
       "      <th>Longitude</th>\n",
       "      <th>Age</th>\n",
       "      <th>Gender</th>\n",
       "      <th>Marital Status</th>\n",
       "      <th>Income</th>\n",
       "    </tr>\n",
       "  </thead>\n",
       "  <tbody>\n",
       "    <tr>\n",
       "      <th>0</th>\n",
       "      <td>TR10008</td>\n",
       "      <td>235</td>\n",
       "      <td>2022-05-21</td>\n",
       "      <td>P8</td>\n",
       "      <td>16000</td>\n",
       "      <td>2</td>\n",
       "      <td>32000</td>\n",
       "      <td>4</td>\n",
       "      <td>Oat</td>\n",
       "      <td>16000</td>\n",
       "      <td>Gita Ginara</td>\n",
       "      <td>Gita</td>\n",
       "      <td>General Trade</td>\n",
       "      <td>6966667.0</td>\n",
       "      <td>110416664.0</td>\n",
       "      <td>37</td>\n",
       "      <td>0</td>\n",
       "      <td>Married</td>\n",
       "      <td>5,35</td>\n",
       "    </tr>\n",
       "    <tr>\n",
       "      <th>1</th>\n",
       "      <td>TR32057</td>\n",
       "      <td>235</td>\n",
       "      <td>2022-06-10</td>\n",
       "      <td>P7</td>\n",
       "      <td>9400</td>\n",
       "      <td>3</td>\n",
       "      <td>28200</td>\n",
       "      <td>7</td>\n",
       "      <td>Coffee Candy</td>\n",
       "      <td>9400</td>\n",
       "      <td>Buana Indah</td>\n",
       "      <td>Buana</td>\n",
       "      <td>General Trade</td>\n",
       "      <td>3316694.0</td>\n",
       "      <td>114590111.0</td>\n",
       "      <td>37</td>\n",
       "      <td>0</td>\n",
       "      <td>Married</td>\n",
       "      <td>5,35</td>\n",
       "    </tr>\n",
       "    <tr>\n",
       "      <th>2</th>\n",
       "      <td>TR47938</td>\n",
       "      <td>235</td>\n",
       "      <td>2022-10-18</td>\n",
       "      <td>P3</td>\n",
       "      <td>7500</td>\n",
       "      <td>4</td>\n",
       "      <td>30000</td>\n",
       "      <td>7</td>\n",
       "      <td>Crackers</td>\n",
       "      <td>7500</td>\n",
       "      <td>Buana Indah</td>\n",
       "      <td>Buana</td>\n",
       "      <td>General Trade</td>\n",
       "      <td>3316694.0</td>\n",
       "      <td>114590111.0</td>\n",
       "      <td>37</td>\n",
       "      <td>0</td>\n",
       "      <td>Married</td>\n",
       "      <td>5,35</td>\n",
       "    </tr>\n",
       "    <tr>\n",
       "      <th>3</th>\n",
       "      <td>TR49065</td>\n",
       "      <td>235</td>\n",
       "      <td>2022-10-08</td>\n",
       "      <td>P5</td>\n",
       "      <td>4200</td>\n",
       "      <td>4</td>\n",
       "      <td>16800</td>\n",
       "      <td>7</td>\n",
       "      <td>Thai Tea</td>\n",
       "      <td>4200</td>\n",
       "      <td>Buana Indah</td>\n",
       "      <td>Buana</td>\n",
       "      <td>General Trade</td>\n",
       "      <td>3316694.0</td>\n",
       "      <td>114590111.0</td>\n",
       "      <td>37</td>\n",
       "      <td>0</td>\n",
       "      <td>Married</td>\n",
       "      <td>5,35</td>\n",
       "    </tr>\n",
       "    <tr>\n",
       "      <th>4</th>\n",
       "      <td>TR50919</td>\n",
       "      <td>235</td>\n",
       "      <td>2022-08-18</td>\n",
       "      <td>P7</td>\n",
       "      <td>9400</td>\n",
       "      <td>4</td>\n",
       "      <td>37600</td>\n",
       "      <td>7</td>\n",
       "      <td>Coffee Candy</td>\n",
       "      <td>9400</td>\n",
       "      <td>Buana Indah</td>\n",
       "      <td>Buana</td>\n",
       "      <td>General Trade</td>\n",
       "      <td>3316694.0</td>\n",
       "      <td>114590111.0</td>\n",
       "      <td>37</td>\n",
       "      <td>0</td>\n",
       "      <td>Married</td>\n",
       "      <td>5,35</td>\n",
       "    </tr>\n",
       "  </tbody>\n",
       "</table>\n",
       "</div>"
      ],
      "text/plain": [
       "  TransactionID  CustomerID       Date ProductID  Price_x  Qty  TotalAmount  \\\n",
       "0       TR10008         235 2022-05-21        P8    16000    2        32000   \n",
       "1       TR32057         235 2022-06-10        P7     9400    3        28200   \n",
       "2       TR47938         235 2022-10-18        P3     7500    4        30000   \n",
       "3       TR49065         235 2022-10-08        P5     4200    4        16800   \n",
       "4       TR50919         235 2022-08-18        P7     9400    4        37600   \n",
       "\n",
       "   StoreID  Product Name  Price_y    StoreName GroupStore           Type  \\\n",
       "0        4           Oat    16000  Gita Ginara       Gita  General Trade   \n",
       "1        7  Coffee Candy     9400  Buana Indah      Buana  General Trade   \n",
       "2        7      Crackers     7500  Buana Indah      Buana  General Trade   \n",
       "3        7      Thai Tea     4200  Buana Indah      Buana  General Trade   \n",
       "4        7  Coffee Candy     9400  Buana Indah      Buana  General Trade   \n",
       "\n",
       "    Latitude    Longitude  Age  Gender Marital Status Income  \n",
       "0  6966667.0  110416664.0   37       0        Married   5,35  \n",
       "1  3316694.0  114590111.0   37       0        Married   5,35  \n",
       "2  3316694.0  114590111.0   37       0        Married   5,35  \n",
       "3  3316694.0  114590111.0   37       0        Married   5,35  \n",
       "4  3316694.0  114590111.0   37       0        Married   5,35  "
      ]
     },
     "execution_count": 73,
     "metadata": {},
     "output_type": "execute_result"
    }
   ],
   "source": [
    "df_merged.head()"
   ]
  },
  {
   "cell_type": "code",
   "execution_count": 78,
   "id": "7f8ecf46-ec45-4dc4-a862-28165c54033d",
   "metadata": {},
   "outputs": [
    {
     "name": "stdout",
     "output_type": "stream",
     "text": [
      "<class 'pandas.core.frame.DataFrame'>\n",
      "RangeIndex: 4908 entries, 0 to 4907\n",
      "Data columns (total 19 columns):\n",
      " #   Column          Non-Null Count  Dtype         \n",
      "---  ------          --------------  -----         \n",
      " 0   TransactionID   4908 non-null   object        \n",
      " 1   CustomerID      4908 non-null   int64         \n",
      " 2   Date            4908 non-null   datetime64[ns]\n",
      " 3   ProductID       4908 non-null   object        \n",
      " 4   Price_x         4908 non-null   int64         \n",
      " 5   Qty             4908 non-null   int64         \n",
      " 6   TotalAmount     4908 non-null   int64         \n",
      " 7   StoreID         4908 non-null   int64         \n",
      " 8   Product Name    4908 non-null   object        \n",
      " 9   Price_y         4908 non-null   int64         \n",
      " 10  StoreName       4908 non-null   object        \n",
      " 11  GroupStore      4908 non-null   object        \n",
      " 12  Type            4908 non-null   object        \n",
      " 13  Latitude        4908 non-null   float64       \n",
      " 14  Longitude       4908 non-null   float64       \n",
      " 15  Age             4908 non-null   int64         \n",
      " 16  Gender          4908 non-null   int64         \n",
      " 17  Marital Status  4908 non-null   object        \n",
      " 18  Income          4908 non-null   object        \n",
      "dtypes: datetime64[ns](1), float64(2), int64(8), object(8)\n",
      "memory usage: 728.7+ KB\n"
     ]
    }
   ],
   "source": [
    "df_merged.info()"
   ]
  },
  {
   "cell_type": "code",
   "execution_count": 77,
   "id": "803531bd-99c4-406f-bc94-785d8541909f",
   "metadata": {},
   "outputs": [],
   "source": [
    "df_merged.to_csv('C:/Users/hp/Downloads/PortoBuilder/Kalbe Internship/Final Project/Case Study Data Scientist/merged_data.csv', index=False)"
   ]
  },
  {
   "cell_type": "code",
   "execution_count": 80,
   "id": "787cdaba-e131-42d5-a449-19486ff7310b",
   "metadata": {},
   "outputs": [
    {
     "name": "stderr",
     "output_type": "stream",
     "text": [
      "\n",
      "[notice] A new release of pip is available: 23.2.1 -> 23.3.1\n",
      "[notice] To update, run: C:\\Users\\hp\\AppData\\Local\\Programs\\Python\\Python311\\python.exe -m pip install --upgrade pip\n"
     ]
    },
    {
     "name": "stdout",
     "output_type": "stream",
     "text": [
      "Requirement already satisfied: nbformat in c:\\users\\hp\\appdata\\local\\programs\\python\\python311\\lib\\site-packages (5.9.2)\n",
      "Requirement already satisfied: fastjsonschema in c:\\users\\hp\\appdata\\local\\programs\\python\\python311\\lib\\site-packages (from nbformat) (2.18.1)\n",
      "Requirement already satisfied: jsonschema>=2.6 in c:\\users\\hp\\appdata\\local\\programs\\python\\python311\\lib\\site-packages (from nbformat) (4.19.1)\n",
      "Requirement already satisfied: jupyter-core in c:\\users\\hp\\appdata\\local\\programs\\python\\python311\\lib\\site-packages (from nbformat) (5.3.2)\n",
      "Requirement already satisfied: traitlets>=5.1 in c:\\users\\hp\\appdata\\local\\programs\\python\\python311\\lib\\site-packages (from nbformat) (5.11.2)\n",
      "Requirement already satisfied: attrs>=22.2.0 in c:\\users\\hp\\appdata\\local\\programs\\python\\python311\\lib\\site-packages (from jsonschema>=2.6->nbformat) (23.1.0)\n",
      "Requirement already satisfied: jsonschema-specifications>=2023.03.6 in c:\\users\\hp\\appdata\\local\\programs\\python\\python311\\lib\\site-packages (from jsonschema>=2.6->nbformat) (2023.7.1)\n",
      "Requirement already satisfied: referencing>=0.28.4 in c:\\users\\hp\\appdata\\local\\programs\\python\\python311\\lib\\site-packages (from jsonschema>=2.6->nbformat) (0.30.2)\n",
      "Requirement already satisfied: rpds-py>=0.7.1 in c:\\users\\hp\\appdata\\local\\programs\\python\\python311\\lib\\site-packages (from jsonschema>=2.6->nbformat) (0.10.4)\n",
      "Requirement already satisfied: platformdirs>=2.5 in c:\\users\\hp\\appdata\\local\\programs\\python\\python311\\lib\\site-packages (from jupyter-core->nbformat) (3.11.0)\n",
      "Requirement already satisfied: pywin32>=300 in c:\\users\\hp\\appdata\\local\\programs\\python\\python311\\lib\\site-packages (from jupyter-core->nbformat) (306)\n"
     ]
    }
   ],
   "source": [
    "!pip install nbformat\n",
    "import nbformat\n",
    "\n",
    "def ipynb_to_py(input_notebook, output_script):\n",
    "    with open(input_notebook, 'r', encoding='utf-8') as nb_file:\n",
    "        notebook = nbformat.read(nb_file, as_version=4)\n",
    "    \n",
    "    code_cells = []\n",
    "    for cell in notebook.cells:\n",
    "        if cell.cell_type == 'code':\n",
    "            code_cells.append(cell.source)\n",
    "    \n",
    "    with open(output_script, 'w', encoding='utf-8') as py_file:\n",
    "        py_file.write('\\n'.join(code_cells))\n",
    "\n",
    "# Replace 'input_notebook.ipynb' with the name of your input Jupyter Notebook file\n",
    "# Replace 'output_script.py' with the desired name for the output Python script file\n",
    "input_notebook = 'Data Prep.ipynb'\n",
    "output_script = 'Data Prep.py'\n",
    "\n",
    "ipynb_to_py(input_notebook, output_script)\n"
   ]
  }
 ],
 "metadata": {
  "kernelspec": {
   "display_name": "Python 3",
   "language": "python",
   "name": "python3"
  },
  "language_info": {
   "codemirror_mode": {
    "name": "ipython",
    "version": 3
   },
   "file_extension": ".py",
   "mimetype": "text/x-python",
   "name": "python",
   "nbconvert_exporter": "python",
   "pygments_lexer": "ipython3",
   "version": "3.11.5"
  }
 },
 "nbformat": 4,
 "nbformat_minor": 5
}
